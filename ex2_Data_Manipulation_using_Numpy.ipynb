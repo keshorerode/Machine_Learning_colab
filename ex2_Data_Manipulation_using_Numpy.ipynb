{
  "nbformat": 4,
  "nbformat_minor": 0,
  "metadata": {
    "colab": {
      "provenance": [],
      "authorship_tag": "ABX9TyOzZOnRl7r9QXKgMJToVLqE",
      "include_colab_link": true
    },
    "kernelspec": {
      "name": "python3",
      "display_name": "Python 3"
    },
    "language_info": {
      "name": "python"
    }
  },
  "cells": [
    {
      "cell_type": "markdown",
      "metadata": {
        "id": "view-in-github",
        "colab_type": "text"
      },
      "source": [
        "<a href=\"https://colab.research.google.com/github/keshorerode/Machine_Learning_colab/blob/main/ex2_Data_Manipulation_using_Numpy.ipynb\" target=\"_parent\"><img src=\"https://colab.research.google.com/assets/colab-badge.svg\" alt=\"Open In Colab\"/></a>"
      ]
    },
    {
      "cell_type": "code",
      "execution_count": 2,
      "metadata": {
        "colab": {
          "base_uri": "https://localhost:8080/"
        },
        "id": "45_5vpEXgf4w",
        "outputId": "40fdf942-bc25-47e8-b8e0-bd650ea9c5b6"
      },
      "outputs": [
        {
          "output_type": "stream",
          "name": "stdout",
          "text": [
            "[42  2  3  4  5]\n",
            "[1 2 3 4 5]\n",
            "[42 12 13 14 15]\n",
            "[11 12 13 14 15]\n"
          ]
        }
      ],
      "source": [
        "import numpy as np\n",
        "arr = np.array([1, 2, 3, 4, 5])\n",
        "x = arr.copy()\n",
        "arr[0] = 42\n",
        "print(arr)\n",
        "print(x)\n",
        "arr = np.array([11, 12, 13, 14, 15])\n",
        "y = arr.copy()\n",
        "\n",
        "arr[0] = 42\n",
        "print(arr)\n",
        "print(y)"
      ]
    },
    {
      "cell_type": "code",
      "source": [
        "import numpy as np\n",
        "arr1 = np.array([1, 2, 3])\n",
        "arr2 = np.array([4, 5, 6])\n",
        "arr = np.concatenate((arr1, arr2))\n",
        "print(arr)\n",
        "print(np.split(arr,2))"
      ],
      "metadata": {
        "colab": {
          "base_uri": "https://localhost:8080/"
        },
        "id": "Uw6HO_pqguXn",
        "outputId": "bdba48c5-98b8-4729-b623-bc579b9286e6"
      },
      "execution_count": 3,
      "outputs": [
        {
          "output_type": "stream",
          "name": "stdout",
          "text": [
            "[1 2 3 4 5 6]\n",
            "[array([1, 2, 3]), array([4, 5, 6])]\n"
          ]
        }
      ]
    },
    {
      "cell_type": "code",
      "source": [
        "import numpy as np\n",
        "arr = np.array([3, 2, 0, 1])\n",
        "print(np.sort(arr))\n",
        "print(np.where(arr==2))"
      ],
      "metadata": {
        "colab": {
          "base_uri": "https://localhost:8080/"
        },
        "id": "boRrnceig_We",
        "outputId": "cb9534b3-7392-4ff7-a286-f78d4f841b18"
      },
      "execution_count": 4,
      "outputs": [
        {
          "output_type": "stream",
          "name": "stdout",
          "text": [
            "[0 1 2 3]\n",
            "(array([1]),)\n"
          ]
        }
      ]
    },
    {
      "cell_type": "code",
      "source": [
        "import numpy as np\n",
        "arr = np.array([1, 2, 3, 4, 5, 6])\n",
        "x=arr.reshape(2,3)\n",
        "print( x)"
      ],
      "metadata": {
        "colab": {
          "base_uri": "https://localhost:8080/"
        },
        "id": "4teURBiNhDWh",
        "outputId": "b5c1c502-0023-457f-8ec6-096d369bbe7f"
      },
      "execution_count": 5,
      "outputs": [
        {
          "output_type": "stream",
          "name": "stdout",
          "text": [
            "[[1 2 3]\n",
            " [4 5 6]]\n"
          ]
        }
      ]
    }
  ]
}